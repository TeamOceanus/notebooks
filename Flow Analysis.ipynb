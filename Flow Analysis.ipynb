{
 "cells": [
  {
   "cell_type": "markdown",
   "metadata": {},
   "source": [
    "# Flow Analysis"
   ]
  },
  {
   "cell_type": "code",
   "execution_count": 1,
   "metadata": {},
   "outputs": [],
   "source": [
    "import netCDF4\n",
    "import numpy as np\n",
    "import matplotlib.pyplot as plt\n",
    "import networkx as nx\n",
    "import random\n",
    "dataset = netCDF4.Dataset('./datasets/world_oscar_vel_5d2019.nc.gz')"
   ]
  },
  {
   "cell_type": "markdown",
   "metadata": {},
   "source": [
    "Import the data."
   ]
  },
  {
   "cell_type": "code",
   "execution_count": 2,
   "metadata": {},
   "outputs": [],
   "source": [
    "uf = dataset.variables['uf'][0,0].data\n",
    "vf = dataset.variables['vf'][0,0].data"
   ]
  },
  {
   "cell_type": "markdown",
   "metadata": {},
   "source": [
    "Pre-process data for analysis."
   ]
  },
  {
   "cell_type": "code",
   "execution_count": 3,
   "metadata": {},
   "outputs": [],
   "source": [
    "graph = nx.DiGraph()\n",
    "for x in range(0, 360, 5):\n",
    "    for y in range(0, 140, 5):\n",
    "        graph.add_node((x, y))"
   ]
  },
  {
   "cell_type": "markdown",
   "metadata": {},
   "source": [
    "Let's define some helper functions."
   ]
  },
  {
   "cell_type": "code",
   "execution_count": 4,
   "metadata": {},
   "outputs": [],
   "source": [
    "def polar_deg(x, y):\n",
    "    z = x * 1j + y\n",
    "    return np.angle(z)\n",
    "\n",
    "def grid_coord(x, y):\n",
    "    return (x - x % 5, y - y % 5)\n",
    "\n",
    "def in_range(x, y):\n",
    "    return 0 <= x < 360 and 0 <= y < 140"
   ]
  },
  {
   "cell_type": "markdown",
   "metadata": {},
   "source": [
    "Now, calculate the weights."
   ]
  },
  {
   "cell_type": "code",
   "execution_count": 5,
   "metadata": {},
   "outputs": [],
   "source": [
    "deg = polar_deg(uf, vf)\n",
    "deg = np.swapaxes(deg, 1, 0)\n",
    "dx = [5, 5, 0, -5, -5, -5, 0, 5]\n",
    "dy = [0, -5, -5, -5, 0, 5, 5, 5]\n",
    "edges_dict = dict()\n",
    "for x in range(0, 360):\n",
    "    for y in range(0, 140):\n",
    "        if np.isnan(deg[x,y]):\n",
    "            continue\n",
    "        for i in range(8):\n",
    "            if 2 * np.pi / 8 * i <= deg[x,y] < 2 * np.pi * (i + 1):\n",
    "                gridx, gridy = grid_coord(x, y)\n",
    "                nextx = gridx + dx[i]\n",
    "                nexty = gridy + dy[i]\n",
    "                if not in_range(nextx, nexty):\n",
    "                    continue\n",
    "                if ((gridx, gridy), (nextx, nexty)) not in edges_dict:\n",
    "                    edges_dict[((gridx, gridy), (nextx, nexty))] = 1\n",
    "                else:\n",
    "                    edges_dict[((gridx, gridy), (nextx, nexty))] += 1 "
   ]
  },
  {
   "cell_type": "markdown",
   "metadata": {},
   "source": [
    "Finally, update the weights and show which part is center in this graph."
   ]
  },
  {
   "cell_type": "code",
   "execution_count": 6,
   "metadata": {},
   "outputs": [],
   "source": [
    "ebunch = [key + ({'capacity': val},) for key, val in edges_dict.items()]\n",
    "graph.add_edges_from(ebunch)\n",
    "\n",
    "indeg_centrality = nx.algorithms.in_degree_centrality(graph)\n",
    "outdeg_centrality = nx.algorithms.out_degree_centrality(graph)\n",
    "indeg_centrality_map = np.zeros((360, 140))\n",
    "outdeg_centrality_map = np.zeros((360, 140))\n",
    "for key, val in indeg_centrality.items():\n",
    "    for x in range(key[0], key[0] + 5):\n",
    "        for y in range(key[1], key[1] + 5):\n",
    "            indeg_centrality_map[x][y] = val\n",
    "for key, val in outdeg_centrality.items():\n",
    "    for x in range(key[0], key[0] + 5):\n",
    "        for y in range(key[1], key[1] + 5):\n",
    "            outdeg_centrality_map[x][y] = val"
   ]
  },
  {
   "cell_type": "markdown",
   "metadata": {},
   "source": [
    "Now, let's plot the centrality."
   ]
  },
  {
   "cell_type": "code",
   "execution_count": 7,
   "metadata": {},
   "outputs": [
    {
     "data": {
      "image/png": "[encoded data removed]",
      "text/plain": [
       "<Figure size 1296x576 with 1 Axes>"
      ]
     },
     "metadata": {
      "needs_background": "light"
     },
     "output_type": "display_data"
    }
   ],
   "source": [
    "plt.figure(figsize=(18, 8))\n",
    "plt.imshow(indeg_centrality_map.swapaxes(1, 0))\n",
    "plt.show()"
   ]
  },
  {
   "cell_type": "code",
   "execution_count": 8,
   "metadata": {},
   "outputs": [
    {
     "data": {
      "image/png": "[encoded data removed]",
      "text/plain": [
       "<Figure size 1296x576 with 1 Axes>"
      ]
     },
     "metadata": {
      "needs_background": "light"
     },
     "output_type": "display_data"
    }
   ],
   "source": [
    "plt.figure(figsize=(18, 8))\n",
    "plt.imshow(outdeg_centrality_map.swapaxes(1, 0))\n",
    "plt.show()"
   ]
  },
  {
   "cell_type": "markdown",
   "metadata": {},
   "source": [
    "The 'sources' will be the points where has maximum $(outdegree) - (indegree)$."
   ]
  },
  {
   "cell_type": "code",
   "execution_count": 9,
   "metadata": {},
   "outputs": [
    {
     "data": {
      "text/plain": [
       "[(20, 55),\n",
       " (20, 70),\n",
       " (35, 50),\n",
       " (40, 80),\n",
       " (115, 80),\n",
       " (130, 45),\n",
       " (235, 75),\n",
       " (255, 65),\n",
       " (340, 15),\n",
       " (350, 35),\n",
       " (350, 80)]"
      ]
     },
     "execution_count": 9,
     "metadata": {},
     "output_type": "execute_result"
    }
   ],
   "source": [
    "outdeg = nx.algorithms.out_degree_centrality(graph)\n",
    "indeg = nx.algorithms.in_degree_centrality(graph)\n",
    "delta = dict()\n",
    "for k in outdeg.keys():\n",
    "    delta[k] = outdeg[k] - indeg[k]\n",
    "source_nodes = [k for k, v in delta.items() if v == max(delta.values())]\n",
    "source_nodes"
   ]
  },
  {
   "cell_type": "markdown",
   "metadata": {},
   "source": [
    "The 'sinks' will be points where has minimum $(outdegree) - (indegree)$."
   ]
  },
  {
   "cell_type": "code",
   "execution_count": 10,
   "metadata": {},
   "outputs": [
    {
     "data": {
      "text/plain": [
       "[(25, 85),\n",
       " (35, 85),\n",
       " (45, 75),\n",
       " (80, 80),\n",
       " (85, 55),\n",
       " (100, 55),\n",
       " (105, 70),\n",
       " (135, 85),\n",
       " (160, 70),\n",
       " (200, 80),\n",
       " (215, 85),\n",
       " (230, 90),\n",
       " (235, 45)]"
      ]
     },
     "execution_count": 10,
     "metadata": {},
     "output_type": "execute_result"
    }
   ],
   "source": [
    "sink_nodes = [k for k, v in delta.items() if v == min(delta.values())]\n",
    "sink_nodes"
   ]
  },
  {
   "cell_type": "markdown",
   "metadata": {},
   "source": [
    "Now, let's use min-cut max-flow theorm to determine points to deploy robots."
   ]
  },
  {
   "cell_type": "code",
   "execution_count": 11,
   "metadata": {},
   "outputs": [
    {
     "data": {
      "text/plain": [
       "{(25, 70),\n",
       " (55, 80),\n",
       " (75, 65),\n",
       " (75, 70),\n",
       " (75, 80),\n",
       " (80, 60),\n",
       " (85, 60),\n",
       " (90, 60),\n",
       " (100, 70),\n",
       " (100, 75),\n",
       " (105, 75),\n",
       " (110, 75),\n",
       " (155, 70),\n",
       " (155, 75),\n",
       " (225, 60),\n",
       " (230, 45)}"
      ]
     },
     "execution_count": 11,
     "metadata": {},
     "output_type": "execute_result"
    }
   ],
   "source": [
    "cut_points = set()\n",
    "for source_node in source_nodes:\n",
    "    for sink_node in sink_nodes:\n",
    "        cut_points |= set(nx.minimum_node_cut(graph, source_node, sink_node))\n",
    "cut_points"
   ]
  },
  {
   "cell_type": "markdown",
   "metadata": {},
   "source": [
    "Finally, plot the cut points."
   ]
  },
  {
   "cell_type": "code",
   "execution_count": 12,
   "metadata": {},
   "outputs": [
    {
     "data": {
      "image/png": "[encoded data removed]",
      "text/plain": [
       "<Figure size 1296x576 with 1 Axes>"
      ]
     },
     "metadata": {
      "needs_background": "light"
     },
     "output_type": "display_data"
    }
   ],
   "source": [
    "nan_mask = dataset.variables['uf'][0,0].mask\n",
    "x_axis = np.argwhere(nan_mask)[:,1]\n",
    "y_axis = 139 - np.argwhere(nan_mask)[:,0]\n",
    "plt.figure(figsize=(18, 8))\n",
    "plt.scatter(x_axis, y_axis, 0.1)\n",
    "plt.scatter(np.array(list(cut_points))[:,0], np.array(list(cut_points))[:,1], 5)\n",
    "plt.show()"
   ]
  }
 ],
 "metadata": {
  "kernelspec": {
   "display_name": "Python 3",
   "language": "python",
   "name": "python3"
  },
  "language_info": {
   "codemirror_mode": {
    "name": "ipython",
    "version": 3
   },
   "file_extension": ".py",
   "mimetype": "text/x-python",
   "name": "python",
   "nbconvert_exporter": "python",
   "pygments_lexer": "ipython3",
   "version": "3.7.4"
  }
 },
 "nbformat": 4,
 "nbformat_minor": 4
}
