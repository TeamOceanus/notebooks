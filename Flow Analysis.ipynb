{
 "cells": [
  {
   "cell_type": "markdown",
   "metadata": {},
   "source": [
    "# Flow Analysis"
   ]
  },
  {
   "cell_type": "code",
   "execution_count": 1,
   "metadata": {},
   "outputs": [],
   "source": [
    "import netCDF4\n",
    "import numpy as np\n",
    "import matplotlib.pyplot as plt\n",
    "import networkx as nx\n",
    "dataset = netCDF4.Dataset('./datasets/world_oscar_vel_5d2019.nc.gz')"
   ]
  },
  {
   "cell_type": "markdown",
   "metadata": {},
   "source": [
    "Import the data."
   ]
  },
  {
   "cell_type": "code",
   "execution_count": 2,
   "metadata": {},
   "outputs": [],
   "source": [
    "uf = dataset.variables['uf'][0,0].data\n",
    "vf = dataset.variables['vf'][0,0].data"
   ]
  },
  {
   "cell_type": "markdown",
   "metadata": {},
   "source": [
    "Pre-process data for analysis."
   ]
  },
  {
   "cell_type": "code",
   "execution_count": 3,
   "metadata": {},
   "outputs": [],
   "source": [
    "graph = nx.DiGraph()\n",
    "for x in range(0, 360, 5):\n",
    "    for y in range(0, 140, 5):\n",
    "        graph.add_node((x, y))"
   ]
  },
  {
   "cell_type": "markdown",
   "metadata": {},
   "source": [
    "Let's define some helper functions."
   ]
  },
  {
   "cell_type": "code",
   "execution_count": 4,
   "metadata": {},
   "outputs": [],
   "source": [
    "def polar_deg(x, y):\n",
    "    z = x * 1j + y\n",
    "    return np.angle(z)\n",
    "\n",
    "def grid_coord(x, y):\n",
    "    return (x - x % 5, y - y % 5)\n",
    "\n",
    "def in_range(x, y):\n",
    "    return 0 <= x < 360 and 0 <= y < 140"
   ]
  },
  {
   "cell_type": "markdown",
   "metadata": {},
   "source": [
    "Now, calculate the weights."
   ]
  },
  {
   "cell_type": "code",
   "execution_count": 5,
   "metadata": {},
   "outputs": [],
   "source": [
    "deg = polar_deg(uf, vf)\n",
    "deg = np.swapaxes(deg, 1, 0)\n",
    "dx = [5, 5, 0, -5, -5, -5, 0, 5]\n",
    "dy = [0, -5, -5, -5, 0, 5, 5, 5]\n",
    "edges_dict = dict()\n",
    "for x in range(0, 360):\n",
    "    for y in range(0, 140):\n",
    "        if np.isnan(deg[x,y]):\n",
    "            continue\n",
    "        for i in range(8):\n",
    "            if 2 * np.pi / 8 * i <= deg[x,y] < 2 * np.pi * (i + 1):\n",
    "                gridx, gridy = grid_coord(x, y)\n",
    "                nextx = gridx + dx[i]\n",
    "                nexty = gridy + dy[i]\n",
    "                if not in_range(nextx, nexty):\n",
    "                    continue\n",
    "                if ((gridx, gridy), (nextx, nexty)) not in edges_dict:\n",
    "                    edges_dict[((gridx, gridy), (nextx, nexty))] = 1\n",
    "                else:\n",
    "                    edges_dict[((gridx, gridy), (nextx, nexty))] += 1 "
   ]
  },
  {
   "cell_type": "markdown",
   "metadata": {},
   "source": [
    "Finally, update the weights and show which part is center in this graph."
   ]
  },
  {
   "cell_type": "code",
   "execution_count": 6,
   "metadata": {},
   "outputs": [],
   "source": [
    "ebunch = [key + ({'capacity': val},) for key, val in edges_dict.items()]\n",
    "graph.add_edges_from(ebunch)\n",
    "\n",
    "centrality = nx.algorithms.in_degree_centrality(graph)\n",
    "centrality_map = np.zeros((360, 140))\n",
    "for key, val in centrality.items():\n",
    "    for x in range(key[0], key[0] + 5):\n",
    "        for y in range(key[1], key[1] + 5):\n",
    "            centrality_map[x][y] = val"
   ]
  },
  {
   "cell_type": "markdown",
   "metadata": {},
   "source": [
    "Now, let's plot the centrality."
   ]
  },
  {
   "cell_type": "code",
   "execution_count": 7,
   "metadata": {},
   "outputs": [
    {
     "data": {
      "image/png": "[encoded data removed]",
      "text/plain": [
       "<Figure size 1296x576 with 1 Axes>"
      ]
     },
     "metadata": {
      "needs_background": "light"
     },
     "output_type": "display_data"
    }
   ],
   "source": [
    "plt.figure(figsize=(18, 8))\n",
    "plt.imshow(centrality_map.swapaxes(1, 0))\n",
    "plt.show()"
   ]
  }
 ],
 "metadata": {
  "kernelspec": {
   "display_name": "Python 3",
   "language": "python",
   "name": "python3"
  },
  "language_info": {
   "codemirror_mode": {
    "name": "ipython",
    "version": 3
   },
   "file_extension": ".py",
   "mimetype": "text/x-python",
   "name": "python",
   "nbconvert_exporter": "python",
   "pygments_lexer": "ipython3",
   "version": "3.7.4"
  }
 },
 "nbformat": 4,
 "nbformat_minor": 4
}
